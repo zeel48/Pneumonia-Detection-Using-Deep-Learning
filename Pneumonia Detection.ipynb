{
 "cells": [
  {
   "cell_type": "code",
   "execution_count": 5,
   "id": "9ef358b5-3493-4525-8e45-378219887a0b",
   "metadata": {},
   "outputs": [],
   "source": [
    "import numpy as np \n",
    "import os\n",
    "import pandas as pd\n",
    "from sklearn.metrics import classification_report, confusion_matrix\n",
    "import keras\n",
    "import tensorflow as tf\n",
    "from keras import backend as K\n",
    "from keras import metrics\n",
    "from keras.regularizers import l2\n",
    "from keras.models import Sequential\n",
    "from keras.layers import Conv2D, MaxPooling2D, Flatten, Dense, Dropout, BatchNormalization, InputLayer, Activation\n",
    "from tensorflow.keras.preprocessing.image import ImageDataGenerator\n",
    "from keras.metrics import AUC\n",
    "from keras.optimizers import Adam"
   ]
  },
  {
   "cell_type": "code",
   "execution_count": 6,
   "id": "768ac0a2-5718-4c9c-8945-71ceb0dd249d",
   "metadata": {},
   "outputs": [],
   "source": [
    "seed_value= 42"
   ]
  },
  {
   "cell_type": "code",
   "execution_count": 7,
   "id": "8e08dec9-e0ba-4ede-b200-c02ab92ce5a4",
   "metadata": {},
   "outputs": [
    {
     "name": "stdout",
     "output_type": "stream",
     "text": [
      "Found 5216 images belonging to 2 classes.\n",
      "Found 16 images belonging to 2 classes.\n",
      "Found 624 images belonging to 2 classes.\n"
     ]
    }
   ],
   "source": [
    "train_path = \"C:/Users/Zeel soni/Downloads/archive/chest_xray/train\"\n",
    "val_path =  \"C:/Users/Zeel soni/Downloads/archive/chest_xray/val\"\n",
    "test_path = \"C:/Users/Zeel soni/Downloads/archive/chest_xray/test\"\n",
    "\n",
    "hyper_dimension = 64\n",
    "hyper_batch_size = 128\n",
    "hyper_epochs = 100\n",
    "hyper_channels = 1\n",
    "hyper_mode = 'grayscale'\n",
    "\n",
    "train_datagen = ImageDataGenerator(rescale=1.0/255.0, \n",
    "                                   shear_range = 0.2,\n",
    "                                   zoom_range = 0.2, \n",
    "                                   horizontal_flip = True)\n",
    "val_datagen = ImageDataGenerator(rescale=1.0/255.0) \n",
    "test_datagen = ImageDataGenerator(rescale=1.0/255.0) \n",
    "\n",
    "\n",
    "train_generator = train_datagen.flow_from_directory(directory = train_path, \n",
    "                                                    target_size = (hyper_dimension, hyper_dimension),\n",
    "                                                    batch_size = hyper_batch_size, \n",
    "                                                    color_mode = hyper_mode,\n",
    "                                                    class_mode = 'binary', \n",
    "                                                    seed = 42)\n",
    "val_generator = val_datagen.flow_from_directory(directory = val_path, \n",
    "                                                 target_size = (hyper_dimension, hyper_dimension),\n",
    "                                                 batch_size = hyper_batch_size, \n",
    "                                                 class_mode = 'binary',\n",
    "                                                 color_mode = hyper_mode,\n",
    "                                                 shuffle=False,\n",
    "                                                 seed = 42)\n",
    "test_generator = test_datagen.flow_from_directory(directory = test_path, \n",
    "                                                 target_size = (hyper_dimension, hyper_dimension),\n",
    "                                                 batch_size = hyper_batch_size, \n",
    "                                                 class_mode = 'binary',\n",
    "                                                 color_mode = hyper_mode,\n",
    "                                                 shuffle=False,\n",
    "                                                 seed = 42)\n",
    "\n",
    "test_generator.reset()"
   ]
  },
  {
   "cell_type": "code",
   "execution_count": 8,
   "id": "afdf7387-2bbb-446c-a964-e4f9ca56ee44",
   "metadata": {},
   "outputs": [
    {
     "name": "stdout",
     "output_type": "stream",
     "text": [
      "Epoch 1/25\n",
      "\u001b[1m5/5\u001b[0m \u001b[32m━━━━━━━━━━━━━━━━━━━━\u001b[0m\u001b[37m\u001b[0m \u001b[1m33s\u001b[0m 3s/step - auc_1: 0.4601 - loss: 0.6445 - val_auc_1: 0.3359 - val_loss: 0.9693\n",
      "Epoch 2/25\n",
      "\u001b[1m5/5\u001b[0m \u001b[32m━━━━━━━━━━━━━━━━━━━━\u001b[0m\u001b[37m\u001b[0m \u001b[1m11s\u001b[0m 2s/step - auc_1: 0.4485 - loss: 0.5860 - val_auc_1: 0.3438 - val_loss: 0.7934\n",
      "Epoch 3/25\n",
      "\u001b[1m5/5\u001b[0m \u001b[32m━━━━━━━━━━━━━━━━━━━━\u001b[0m\u001b[37m\u001b[0m \u001b[1m11s\u001b[0m 2s/step - auc_1: 0.4341 - loss: 0.5679 - val_auc_1: 0.3672 - val_loss: 0.8449\n",
      "Epoch 4/25\n",
      "\u001b[1m5/5\u001b[0m \u001b[32m━━━━━━━━━━━━━━━━━━━━\u001b[0m\u001b[37m\u001b[0m \u001b[1m11s\u001b[0m 2s/step - auc_1: 0.5257 - loss: 0.5693 - val_auc_1: 0.4219 - val_loss: 0.7569\n",
      "Epoch 5/25\n",
      "\u001b[1m5/5\u001b[0m \u001b[32m━━━━━━━━━━━━━━━━━━━━\u001b[0m\u001b[37m\u001b[0m \u001b[1m11s\u001b[0m 2s/step - auc_1: 0.6379 - loss: 0.5587 - val_auc_1: 0.4375 - val_loss: 0.8742\n",
      "Epoch 6/25\n",
      "\u001b[1m5/5\u001b[0m \u001b[32m━━━━━━━━━━━━━━━━━━━━\u001b[0m\u001b[37m\u001b[0m \u001b[1m11s\u001b[0m 2s/step - auc_1: 0.6344 - loss: 0.5908 - val_auc_1: 0.6094 - val_loss: 0.7098\n",
      "Epoch 7/25\n",
      "\u001b[1m5/5\u001b[0m \u001b[32m━━━━━━━━━━━━━━━━━━━━\u001b[0m\u001b[37m\u001b[0m \u001b[1m9s\u001b[0m 2s/step - auc_1: 0.7289 - loss: 0.5415 - val_auc_1: 0.5938 - val_loss: 0.8248\n",
      "Epoch 8/25\n",
      "\u001b[1m5/5\u001b[0m \u001b[32m━━━━━━━━━━━━━━━━━━━━\u001b[0m\u001b[37m\u001b[0m \u001b[1m1s\u001b[0m 198ms/step - auc_1: 0.7771 - loss: 0.5255 - val_auc_1: 0.6953 - val_loss: 0.7481\n",
      "Epoch 9/25\n",
      "\u001b[1m5/5\u001b[0m \u001b[32m━━━━━━━━━━━━━━━━━━━━\u001b[0m\u001b[37m\u001b[0m \u001b[1m0s\u001b[0m 69ms/step - auc_1: 0.9169 - loss: 0.4578 - val_auc_1: 0.6875 - val_loss: 0.8119\n",
      "Epoch 10/25\n",
      "\u001b[1m5/5\u001b[0m \u001b[32m━━━━━━━━━━━━━━━━━━━━\u001b[0m\u001b[37m\u001b[0m \u001b[1m27s\u001b[0m 2s/step - auc_1: 0.8450 - loss: 0.4507 - val_auc_1: 0.7812 - val_loss: 0.6930\n",
      "Epoch 11/25\n",
      "\u001b[1m5/5\u001b[0m \u001b[32m━━━━━━━━━━━━━━━━━━━━\u001b[0m\u001b[37m\u001b[0m \u001b[1m10s\u001b[0m 2s/step - auc_1: 0.9066 - loss: 0.4283 - val_auc_1: 0.7969 - val_loss: 0.7107\n",
      "Epoch 12/25\n",
      "\u001b[1m5/5\u001b[0m \u001b[32m━━━━━━━━━━━━━━━━━━━━\u001b[0m\u001b[37m\u001b[0m \u001b[1m10s\u001b[0m 2s/step - auc_1: 0.9141 - loss: 0.3748 - val_auc_1: 0.8203 - val_loss: 0.6484\n",
      "Epoch 13/25\n",
      "\u001b[1m5/5\u001b[0m \u001b[32m━━━━━━━━━━━━━━━━━━━━\u001b[0m\u001b[37m\u001b[0m \u001b[1m10s\u001b[0m 2s/step - auc_1: 0.9300 - loss: 0.3231 - val_auc_1: 0.8359 - val_loss: 0.6945\n",
      "Epoch 14/25\n",
      "\u001b[1m5/5\u001b[0m \u001b[32m━━━━━━━━━━━━━━━━━━━━\u001b[0m\u001b[37m\u001b[0m \u001b[1m11s\u001b[0m 2s/step - auc_1: 0.9455 - loss: 0.2950 - val_auc_1: 0.8516 - val_loss: 0.5371\n",
      "Epoch 15/25\n",
      "\u001b[1m5/5\u001b[0m \u001b[32m━━━━━━━━━━━━━━━━━━━━\u001b[0m\u001b[37m\u001b[0m \u001b[1m11s\u001b[0m 2s/step - auc_1: 0.9317 - loss: 0.2901 - val_auc_1: 0.8750 - val_loss: 0.4624\n",
      "Epoch 16/25\n",
      "\u001b[1m5/5\u001b[0m \u001b[32m━━━━━━━━━━━━━━━━━━━━\u001b[0m\u001b[37m\u001b[0m \u001b[1m9s\u001b[0m 2s/step - auc_1: 0.9364 - loss: 0.2929 - val_auc_1: 0.8906 - val_loss: 0.4512\n",
      "Epoch 17/25\n",
      "\u001b[1m5/5\u001b[0m \u001b[32m━━━━━━━━━━━━━━━━━━━━\u001b[0m\u001b[37m\u001b[0m \u001b[1m1s\u001b[0m 235ms/step - auc_1: 0.9234 - loss: 0.3162 - val_auc_1: 0.9062 - val_loss: 0.4578\n",
      "Epoch 18/25\n",
      "\u001b[1m5/5\u001b[0m \u001b[32m━━━━━━━━━━━━━━━━━━━━\u001b[0m\u001b[37m\u001b[0m \u001b[1m0s\u001b[0m 84ms/step - auc_1: 0.8989 - loss: 0.3598 - val_auc_1: 0.9062 - val_loss: 0.4776\n",
      "Epoch 19/25\n",
      "\u001b[1m5/5\u001b[0m \u001b[32m━━━━━━━━━━━━━━━━━━━━\u001b[0m\u001b[37m\u001b[0m \u001b[1m28s\u001b[0m 2s/step - auc_1: 0.9568 - loss: 0.2590 - val_auc_1: 0.8906 - val_loss: 0.5071\n",
      "Epoch 20/25\n",
      "\u001b[1m5/5\u001b[0m \u001b[32m━━━━━━━━━━━━━━━━━━━━\u001b[0m\u001b[37m\u001b[0m \u001b[1m10s\u001b[0m 2s/step - auc_1: 0.9379 - loss: 0.2923 - val_auc_1: 0.8906 - val_loss: 0.4612\n",
      "Epoch 21/25\n",
      "\u001b[1m5/5\u001b[0m \u001b[32m━━━━━━━━━━━━━━━━━━━━\u001b[0m\u001b[37m\u001b[0m \u001b[1m11s\u001b[0m 2s/step - auc_1: 0.9400 - loss: 0.2659 - val_auc_1: 0.8906 - val_loss: 0.4400\n",
      "Epoch 22/25\n",
      "\u001b[1m5/5\u001b[0m \u001b[32m━━━━━━━━━━━━━━━━━━━━\u001b[0m\u001b[37m\u001b[0m \u001b[1m11s\u001b[0m 2s/step - auc_1: 0.9343 - loss: 0.2753 - val_auc_1: 0.9062 - val_loss: 0.4905\n",
      "Epoch 23/25\n",
      "\u001b[1m5/5\u001b[0m \u001b[32m━━━━━━━━━━━━━━━━━━━━\u001b[0m\u001b[37m\u001b[0m \u001b[1m10s\u001b[0m 2s/step - auc_1: 0.9415 - loss: 0.2554 - val_auc_1: 0.9062 - val_loss: 0.4856\n",
      "Epoch 24/25\n",
      "\u001b[1m5/5\u001b[0m \u001b[32m━━━━━━━━━━━━━━━━━━━━\u001b[0m\u001b[37m\u001b[0m \u001b[1m11s\u001b[0m 2s/step - auc_1: 0.9598 - loss: 0.2302 - val_auc_1: 0.9062 - val_loss: 0.4305\n",
      "Epoch 25/25\n",
      "\u001b[1m5/5\u001b[0m \u001b[32m━━━━━━━━━━━━━━━━━━━━\u001b[0m\u001b[37m\u001b[0m \u001b[1m9s\u001b[0m 2s/step - auc_1: 0.9384 - loss: 0.2851 - val_auc_1: 0.9062 - val_loss: 0.4282\n"
     ]
    }
   ],
   "source": [
    "cnn = Sequential()\n",
    "cnn.add(InputLayer(input_shape=(hyper_dimension, hyper_dimension, hyper_channels)))#Input Layer\n",
    "\n",
    "cnn.add(Conv2D(filters=32, kernel_size=3, activation='relu'))#Hidden Layers\n",
    "cnn.add(MaxPooling2D(pool_size=(2,2)))\n",
    "\n",
    "cnn.add(Conv2D(filters=32, kernel_size=3, activation='relu'))#Hidden Layers\n",
    "cnn.add(MaxPooling2D(pool_size=(2,2)))\n",
    "\n",
    "cnn.add(Conv2D(filters=32, kernel_size=3, activation='relu'))#Hidden Layers\n",
    "cnn.add(MaxPooling2D(pool_size=(2,2)))\n",
    "\n",
    "cnn.add(Flatten())\n",
    "\n",
    "cnn.add(Dense(activation='relu', units=128))\n",
    "cnn.add(Dense(activation='sigmoid', units=1))#Output Layer\n",
    "\n",
    "cnn.compile(optimizer= 'adam', loss='binary_crossentropy', metrics=[AUC()])\n",
    "cnn_model = cnn.fit(\n",
    "    train_generator,\n",
    "    steps_per_epoch=5,\n",
    "    epochs=25,\n",
    "    validation_data=val_generator,\n",
    "    validation_steps=2,\n",
    "    verbose=1\n",
    ")\n"
   ]
  },
  {
   "cell_type": "code",
   "execution_count": 9,
   "id": "19a72ad4-16f7-482a-b2fa-a3e19a2a35e7",
   "metadata": {},
   "outputs": [
    {
     "name": "stdout",
     "output_type": "stream",
     "text": [
      "\u001b[1m5/5\u001b[0m \u001b[32m━━━━━━━━━━━━━━━━━━━━\u001b[0m\u001b[37m\u001b[0m \u001b[1m9s\u001b[0m 1s/step\n"
     ]
    }
   ],
   "source": [
    "train_loss = cnn_model.history['loss']\n",
    "val_loss = cnn_model.history['val_loss']\n",
    "\n",
    "train_auc = cnn_model.history[list(cnn_model.history.keys())[3]]\n",
    "val_auc = cnn_model.history[list(cnn_model.history.keys())[1]]\n",
    "\n",
    "y_true = test_generator.classes\n",
    "Y_pred = cnn.predict(test_generator, steps=len(test_generator))\n",
    "y_pred = (Y_pred > 0.5).flatten()\n",
    "y_pred_prob = Y_pred.flatten()"
   ]
  },
  {
   "cell_type": "code",
   "execution_count": 10,
   "id": "cd26f5b4-2005-45e6-9683-53413605b7bd",
   "metadata": {},
   "outputs": [
    {
     "name": "stdout",
     "output_type": "stream",
     "text": [
      "[Summary Statistics]\n",
      "Accuracy = 84.29% | Precision = 93.20% | Recall = 80.77% | Specificity = 90.17% | F1 Score = 86.54%\n"
     ]
    }
   ],
   "source": [
    "## Summary Statistics\n",
    "cm = confusion_matrix(y_true, y_pred)\n",
    "TN, FP, FN, TP = cm.ravel()\n",
    "accuracy = (TP + TN) / np.sum(cm)\n",
    "precision = TP / (TP + FP)\n",
    "recall = TP / (TP + FN)\n",
    "specificity = TN / (TN + FP)\n",
    "f1 = 2 * precision * recall / (precision + recall)\n",
    "print(f'[Summary Statistics]\\n'\n",
    "      f'Accuracy = {accuracy:.2%} | Precision = {precision:.2%} | '\n",
    "      f'Recall = {recall:.2%} | Specificity = {specificity:.2%} | '\n",
    "      f'F1 Score = {f1:.2%}')"
   ]
  }
 ],
 "metadata": {
  "kernelspec": {
   "display_name": "Python 3 (ipykernel)",
   "language": "python",
   "name": "python3"
  },
  "language_info": {
   "codemirror_mode": {
    "name": "ipython",
    "version": 3
   },
   "file_extension": ".py",
   "mimetype": "text/x-python",
   "name": "python",
   "nbconvert_exporter": "python",
   "pygments_lexer": "ipython3",
   "version": "3.11.7"
  }
 },
 "nbformat": 4,
 "nbformat_minor": 5
}
